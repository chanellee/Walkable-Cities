{
 "cells": [
  {
   "cell_type": "markdown",
   "metadata": {},
   "source": [
    "1. Identify all NAs in the data.\n",
    "2. Summary Statistics Table\n",
    "3. Scatterplots\n",
    "4. Heat Maps (Correlations)\n",
    "5. Hypothesis Testing\n",
    "6. Regression"
   ]
  },
  {
   "cell_type": "code",
   "execution_count": null,
   "metadata": {},
   "outputs": [],
   "source": []
  }
 ],
 "metadata": {
  "language_info": {
   "name": "python"
  },
  "orig_nbformat": 4
 },
 "nbformat": 4,
 "nbformat_minor": 2
}
